{
  "nbformat": 4,
  "nbformat_minor": 0,
  "metadata": {
    "colab": {
      "provenance": []
    },
    "kernelspec": {
      "name": "python3",
      "display_name": "Python 3"
    },
    "language_info": {
      "name": "python"
    }
  },
  "cells": [
    {
      "cell_type": "code",
      "execution_count": null,
      "metadata": {
        "id": "3xLBh8AuQJW8"
      },
      "outputs": [],
      "source": []
    },
    {
      "cell_type": "markdown",
      "source": [
        "#  Q1 What are the five key concepts of Object-Oriented Programming (OOP)?\n",
        "\n"
      ],
      "metadata": {
        "id": "FGeIjcSsQ8GA"
      }
    },
    {
      "cell_type": "code",
      "source": [],
      "metadata": {
        "id": "wU9pFeV4RE3c"
      },
      "execution_count": null,
      "outputs": []
    },
    {
      "cell_type": "markdown",
      "source": [
        "1.Encapsulation:It restricts access to some of an object's components, protecting the internal state of the object from outside interference and misuse. This is often done through access modifiers like private, protected, and public.\n",
        "\n",
        "2.Abstraction:Abstraction is the concept of hiding the complex implementation details and showing only the essential features of an object.\n",
        "\n",
        "3.Inheritance:Inheritance allows one class (the child or subclass) to inherit the properties and methods of another class (the parent or superclass).\n",
        "\n",
        "4.Polymorphism:Polymorphism means \"many forms.\" It allows objects of different classes to be treated as objects of a common superclass. The most common types of polymorphism are method overriding (where a subclass provides its own implementation of a method) and method overloading (where multiple methods have the same name but different signatures).\n",
        "\n",
        "5.Composition:Composition is a design principle where one object contains another object to build more complex structures."
      ],
      "metadata": {
        "id": "6yjVeRMORGw6"
      }
    },
    {
      "cell_type": "code",
      "source": [],
      "metadata": {
        "id": "u9nQYvzPSjgG"
      },
      "execution_count": null,
      "outputs": []
    },
    {
      "cell_type": "markdown",
      "source": [
        "# Q2 Write a Python class for a `Car` with attributes for `make`, `model`, and `year`. Include a method to display\n",
        "the car's information.\n"
      ],
      "metadata": {
        "id": "IqualmFySsEf"
      }
    },
    {
      "cell_type": "code",
      "source": [
        "#answer of the Q2\n",
        "class Car:\n",
        "    def __init__(self, make, model, year):\n",
        "        self.make = make\n",
        "        self.model = model\n",
        "        self.year = year\n",
        "\n",
        "    def display_info(self):\n",
        "        # Method to display the car's information\n",
        "        print(f\"Car Information: {self.year} {self.make} {self.model}\")\n",
        "\n",
        "my_car = Car(\"Mahindra\", \"Toyota\", 2020)\n",
        "my_car.display_info()\n"
      ],
      "metadata": {
        "colab": {
          "base_uri": "https://localhost:8080/"
        },
        "id": "_XBGib9DSu49",
        "outputId": "acb96d3a-9c65-492c-cb7b-878e99f39df5"
      },
      "execution_count": 4,
      "outputs": [
        {
          "output_type": "stream",
          "name": "stdout",
          "text": [
            "Car Information: 2020 Mahindra Toyota\n"
          ]
        }
      ]
    },
    {
      "cell_type": "markdown",
      "source": [
        "# Q3 Explain the difference between instance methods and class methods. Provide an example of each."
      ],
      "metadata": {
        "id": "_qp5NQRrT6qN"
      }
    },
    {
      "cell_type": "code",
      "source": [],
      "metadata": {
        "id": "8xLhpzsNT8WI"
      },
      "execution_count": null,
      "outputs": []
    },
    {
      "cell_type": "markdown",
      "source": [
        "Instance Methods :1.These methods work with the specific data of a particular object of the class and can modify instance-specific states.\n",
        "2.Bound to an instance of the class and operates on instance attributes.\n",
        "3.The first argument is self, which refers to the instance.\n",
        "EXAMPLE:display_info is an instance method that requires an instance of Car to be called (e.g., my_car.display_info()).\n",
        "It uses the instance (self) to access the attributes (self.make, self.model, self.year).\n",
        "\n",
        "Class Methods:1.Class methods are typically used for factory methods (creating new instances) or for methods that operate on class-level data, rather than individual instances.\n",
        "2.Bound to the class itself and operates on class attributes.\n",
        "3.The first argument is cls, which refers to the class.\n",
        "EXAMPLE:display_car_count is a class method that takes cls as the first argument, which refers to the class itself (not an instance)"
      ],
      "metadata": {
        "id": "DkC95XFKUi0M"
      }
    },
    {
      "cell_type": "code",
      "source": [],
      "metadata": {
        "id": "FSKQ93kkWH3m"
      },
      "execution_count": null,
      "outputs": []
    },
    {
      "cell_type": "markdown",
      "source": [
        "# Q4 How does Python implement method overloading? Give an example."
      ],
      "metadata": {
        "id": "2wf1SVYjWc1D"
      }
    },
    {
      "cell_type": "code",
      "source": [],
      "metadata": {
        "id": "NlvgiPGfWeB1"
      },
      "execution_count": null,
      "outputs": []
    },
    {
      "cell_type": "markdown",
      "source": [
        "method overloading allows you to define multiple methods with the same name but with different parameter types or a different number of parameters.\n",
        "\n",
        "While Python does not support method overloading directly, you can mimic overloading behavior by using default arguments, *args for variable-length arguments, and conditional checks inside the method to handle different use cases.\n"
      ],
      "metadata": {
        "id": "XD2Kq698Wg6o"
      }
    },
    {
      "cell_type": "code",
      "source": [
        "class Calculator:\n",
        "    def add(self, a, b=0, c=0):  # Default arguments\n",
        "        return a + b + c\n",
        "\n",
        "calc = Calculator()\n",
        "\n",
        "# Calling with two arguments\n",
        "print(calc.add(2, 3))\n",
        "\n",
        "# Calling with three arguments\n",
        "print(calc.add(2, 3, 4))\n",
        "\n",
        "# Calling with one argument (using default values for b and c)\n",
        "print(calc.add(2))\n"
      ],
      "metadata": {
        "colab": {
          "base_uri": "https://localhost:8080/"
        },
        "id": "KdbIs2oyXBE3",
        "outputId": "b6af7fed-0b19-4de4-e688-ec9c820017e8"
      },
      "execution_count": 5,
      "outputs": [
        {
          "output_type": "stream",
          "name": "stdout",
          "text": [
            "5\n",
            "9\n",
            "2\n"
          ]
        }
      ]
    },
    {
      "cell_type": "markdown",
      "source": [
        "# Q5 What are the three types of access modifiers in Python? How are they denoted?"
      ],
      "metadata": {
        "id": "lpbPL9kjXnqS"
      }
    },
    {
      "cell_type": "code",
      "source": [],
      "metadata": {
        "id": "_oBbflZOXuA_"
      },
      "execution_count": null,
      "outputs": []
    },
    {
      "cell_type": "markdown",
      "source": [
        "1.Public: These attributes and methods are accessible from outside the class. They are the default visibility level for attributes and methods in Python.\n",
        "\n",
        "2.Protected: These attributes and methods are intended to be accessible only within the class and its subclasses.\n",
        "\n",
        "3.Private: These attributes and methods are intended to be accessible only within the class.\n",
        "\n",
        "DENOTION:\n",
        "Public: No leading underscore (public_attr, public_method()).\n",
        "\n",
        "Protected: Single leading underscore (_protected_attr, _protected_method()).\n",
        "\n",
        "Private: Double leading underscore (__private_attr, __private_method()), which triggers name mangling."
      ],
      "metadata": {
        "id": "76aBKsnDYOBb"
      }
    },
    {
      "cell_type": "code",
      "source": [],
      "metadata": {
        "id": "ci021LxdYi9C"
      },
      "execution_count": null,
      "outputs": []
    },
    {
      "cell_type": "markdown",
      "source": [
        "# Q6 Describe the five types of inheritance in Python. Provide a simple example of multiple inheritance."
      ],
      "metadata": {
        "id": "tGG_iC18ZHjX"
      }
    },
    {
      "cell_type": "code",
      "source": [],
      "metadata": {
        "id": "WW1tG4jLZKzG"
      },
      "execution_count": null,
      "outputs": []
    },
    {
      "cell_type": "markdown",
      "source": [
        "1.Single Inheritance:\n",
        "\n",
        "In single inheritance, a subclass (child class) inherits from only one parent class.\n",
        "\n",
        "2.Multilevel Inheritance:\n",
        "\n",
        "In multilevel inheritance, a subclass (child class) is derived from another subclass (grandchild class). In other words, a chain of inheritance exists.\n",
        "\n",
        "3.Multiple Inheritance:\n",
        "\n",
        "In multiple inheritance, a subclass inherits from more than one parent class. This allows the subclass to access methods and attributes from both parent classes.\n",
        "\n",
        "4.Hierarchical Inheritance:\n",
        "\n",
        "In hierarchical inheritance, multiple subclasses inherit from the same parent class. Each subclass can extend or override the methods of the parent class.\n",
        "\n",
        "5.Hybrid Inheritance:\n",
        "\n",
        "Hybrid inheritance is a combination of two or more types of inheritance. For example, it can combine multiple inheritance with hierarchical inheritance."
      ],
      "metadata": {
        "id": "inEFfjX4ZOw2"
      }
    },
    {
      "cell_type": "code",
      "source": [
        "#EXAMPLE OF MULTIPLE INHERITANCE\n",
        "class Animal:\n",
        "    def sound(self):\n",
        "        return \"Some sound\"\n",
        "\n",
        "class Pet:\n",
        "    def play(self):\n",
        "        return \"Playing with pet\"\n",
        "\n",
        "class Dog(Animal, Pet):  # Inheriting from both Animal and Pet\n",
        "    def speak(self):\n",
        "        return \"Woof!\"\n",
        "\n",
        "# Create a Dog object\n",
        "dog = Dog()\n",
        "print(dog.sound())\n",
        "print(dog.play())\n",
        "print(dog.speak())\n"
      ],
      "metadata": {
        "colab": {
          "base_uri": "https://localhost:8080/"
        },
        "id": "Gpm21JiGZzF1",
        "outputId": "c4f2e3b6-2d20-4d72-87d5-0c118b7ce28a"
      },
      "execution_count": 7,
      "outputs": [
        {
          "output_type": "stream",
          "name": "stdout",
          "text": [
            "Some sound\n",
            "Playing with pet\n",
            "Woof!\n"
          ]
        }
      ]
    },
    {
      "cell_type": "code",
      "source": [],
      "metadata": {
        "id": "JSPoXHNaaSYQ"
      },
      "execution_count": null,
      "outputs": []
    },
    {
      "cell_type": "markdown",
      "source": [
        "# Q7 What is the Method Resolution Order (MRO) in Python? How can you retrieve it programmatically?"
      ],
      "metadata": {
        "id": "D_u6kbfdados"
      }
    },
    {
      "cell_type": "code",
      "source": [],
      "metadata": {
        "id": "c1_8QcfKah7_"
      },
      "execution_count": null,
      "outputs": []
    },
    {
      "cell_type": "markdown",
      "source": [
        "Method Resolution Order (MRO):\n",
        " the order in which classes are searched when looking for a method or attribute in an inheritance hierarchy. It determines the sequence in which base classes are looked up when a method is called on an object. The MRO is especially important in cases of multiple inheritance.\n",
        "\n",
        " #programatically:\n",
        "\n",
        " we can  retrieve the MRO of a class using the mro() method or the __mro__ attribute.\n",
        "\n",
        " Using mro() method: This method returns the MRO as a list of classes.\n",
        "\n",
        " Using __mro__ attribute: This is a tuple containing the classes in the MRO."
      ],
      "metadata": {
        "id": "QaWZn8dXaxjj"
      }
    },
    {
      "cell_type": "code",
      "source": [],
      "metadata": {
        "id": "EK_MfFvLbkyJ"
      },
      "execution_count": null,
      "outputs": []
    },
    {
      "cell_type": "markdown",
      "source": [
        "# Q8 Create an abstract base class `Shape` with an abstract method `area()`. Then create two subclasses `Circle` and `Rectangle` that implement the `area()` method."
      ],
      "metadata": {
        "id": "WiYwjr0ZbrvR"
      }
    },
    {
      "cell_type": "code",
      "source": [
        "from abc import ABC, abstractmethod\n",
        "import math\n",
        "\n",
        "# Abstract base class\n",
        "class Shape(ABC):\n",
        "\n",
        "    @abstractmethod\n",
        "    def area(self):\n",
        "        pass\n",
        "\n",
        "# Subclass representing a Circle\n",
        "class Circle(Shape):\n",
        "    def __init__(self, radius):\n",
        "        self.radius = radius\n",
        "\n",
        "    def area(self):\n",
        "        return math.pi * self.radius ** 2\n",
        "\n",
        "# Subclass representing a Rectangle\n",
        "class Rectangle(Shape):\n",
        "    def __init__(self, width, height):\n",
        "        self.width = width\n",
        "        self.height = height\n",
        "\n",
        "    def area(self):\n",
        "        return self.width * self.height\n",
        "\n",
        "# Testing the implementation\n",
        "circle = Circle(5)\n",
        "rectangle = Rectangle(4, 6)\n",
        "\n",
        "print(f\"Area of Circle: {circle.area():.2f}\")\n",
        "print(f\"Area of Rectangle: {rectangle.area()}\")\n"
      ],
      "metadata": {
        "colab": {
          "base_uri": "https://localhost:8080/"
        },
        "id": "PrLOnTMjbzcL",
        "outputId": "e00e45a6-9c73-468c-ca22-f56858c127e8"
      },
      "execution_count": 9,
      "outputs": [
        {
          "output_type": "stream",
          "name": "stdout",
          "text": [
            "Area of Circle: 78.54\n",
            "Area of Rectangle: 24\n"
          ]
        }
      ]
    },
    {
      "cell_type": "markdown",
      "source": [
        "# Q9  Demonstrate polymorphism by creating a function that can work with different shape objects to calculate and print their areas.\n"
      ],
      "metadata": {
        "id": "2DqRT-_kcdGd"
      }
    },
    {
      "cell_type": "code",
      "source": [],
      "metadata": {
        "id": "xQ8TWXleclrw"
      },
      "execution_count": null,
      "outputs": []
    },
    {
      "cell_type": "markdown",
      "source": [
        "Polymorphism allows a function to interact with objects of different classes in a way that makes it possible to treat them as if they were instances of the same class, especially when they share a common method or interface."
      ],
      "metadata": {
        "id": "dpZo3JFYdM_B"
      }
    },
    {
      "cell_type": "code",
      "source": [],
      "metadata": {
        "id": "Upk8szFCdNza"
      },
      "execution_count": null,
      "outputs": []
    },
    {
      "cell_type": "markdown",
      "source": [
        "#Code Example Demonstrating Polymorphism:\n"
      ],
      "metadata": {
        "id": "oWizt3gydR6h"
      }
    },
    {
      "cell_type": "code",
      "source": [
        "from abc import ABC, abstractmethod\n",
        "import math\n",
        "\n",
        "# Abstract base class\n",
        "class Shape(ABC):\n",
        "\n",
        "    @abstractmethod\n",
        "    def area(self):\n",
        "        pass  # Abstract method for area calculation\n",
        "\n",
        "\n",
        "class Circle(Shape):\n",
        "    def __init__(self, radius):\n",
        "        self.radius = radius\n",
        "\n",
        "    def area(self):\n",
        "        return math.pi * self.radius ** 2\n",
        "\n",
        "\n",
        "class Rectangle(Shape):\n",
        "    def __init__(self, width, height):\n",
        "        self.width = width\n",
        "        self.height = height\n",
        "\n",
        "    def area(self):\n",
        "        return self.width * self.height\n",
        "\n",
        "# Function that works with different shape objects\n",
        "def print_area(shape: Shape):\n",
        "    print(f\"Area of the shape: {shape.area():.2f}\")\n",
        "\n",
        "# Creating objects of different shapes\n",
        "circle = Circle(5)\n",
        "rectangle = Rectangle(4, 6)\n",
        "\n",
        "# Demonstrating polymorphism\n",
        "print_area(circle)\n",
        "print_area(rectangle)\n"
      ],
      "metadata": {
        "colab": {
          "base_uri": "https://localhost:8080/"
        },
        "id": "o4z5VIhkdTxB",
        "outputId": "9367b5e2-2549-42f3-9844-4984d0895353"
      },
      "execution_count": 10,
      "outputs": [
        {
          "output_type": "stream",
          "name": "stdout",
          "text": [
            "Area of the shape: 78.54\n",
            "Area of the shape: 24.00\n"
          ]
        }
      ]
    },
    {
      "cell_type": "code",
      "source": [],
      "metadata": {
        "id": "c0ten4HUdozG"
      },
      "execution_count": null,
      "outputs": []
    },
    {
      "cell_type": "markdown",
      "source": [
        "# Q10  Implement encapsulation in a `BankAccount` class with private attributes for `balance` and account_number Include methods for deposit, withdrawal, and balance inquiry."
      ],
      "metadata": {
        "id": "lhNyMF4xdqel"
      }
    },
    {
      "cell_type": "code",
      "source": [
        "class BankAccount:\n",
        "    def __init__(self, account_number, initial_balance=0):\n",
        "        # Private attributes\n",
        "        self.__account_number = account_number\n",
        "        self.__balance = initial_balance\n",
        "\n",
        "    # Method to deposit money into the account\n",
        "    def deposit(self, amount):\n",
        "        if amount > 0:\n",
        "            self.__balance += amount\n",
        "            print(f\"Deposited ${amount}. New balance: ${self.__balance}\")\n",
        "        else:\n",
        "            print(\"Deposit amount must be positive.\")\n",
        "\n",
        "    # Method to withdraw money from the account\n",
        "    def withdraw(self, amount):\n",
        "        if amount > 0:\n",
        "            if self.__balance >= amount:\n",
        "                self.__balance -= amount\n",
        "                print(f\"Withdrew ${amount}. New balance: ${self.__balance}\")\n",
        "            else:\n",
        "                print(\"Insufficient funds for the withdrawal.\")\n",
        "        else:\n",
        "            print(\"Withdrawal amount must be positive.\")\n",
        "\n",
        "    # Method to get the current balance (encapsulated)\n",
        "    def get_balance(self):\n",
        "        return self.__balance\n",
        "\n",
        "    # Method to get the account number (encapsulated)\n",
        "    def get_account_number(self):\n",
        "        return self.__account_number\n",
        "\n",
        "# Testing the BankAccount class\n",
        "account = BankAccount(123456789, 500)\n",
        "\n",
        "# Deposit money into the account\n",
        "account.deposit(200)\n",
        "\n",
        "# Withdraw money from the account\n",
        "account.withdraw(150)\n",
        "\n",
        "# Attempt to withdraw more than the current balance\n",
        "account.withdraw(600)  # Trying to withdraw $600 (which should fail)\n",
        "\n",
        "# Check balance\n",
        "print(f\"Current balance: ${account.get_balance()}\")  # Balance inquiry\n"
      ],
      "metadata": {
        "colab": {
          "base_uri": "https://localhost:8080/"
        },
        "id": "ctMzhBVNd5I1",
        "outputId": "b878cb23-f018-4a67-abc5-39d9daf4786e"
      },
      "execution_count": 11,
      "outputs": [
        {
          "output_type": "stream",
          "name": "stdout",
          "text": [
            "Deposited $200. New balance: $700\n",
            "Withdrew $150. New balance: $550\n",
            "Insufficient funds for the withdrawal.\n",
            "Current balance: $550\n"
          ]
        }
      ]
    },
    {
      "cell_type": "code",
      "source": [],
      "metadata": {
        "id": "i9eFmhDPf_p0"
      },
      "execution_count": null,
      "outputs": []
    },
    {
      "cell_type": "markdown",
      "source": [
        "# Q11  Write a class that overrides the `__str__` and `__add__` magic methods. What will these methods allow you to do?"
      ],
      "metadata": {
        "id": "QWQDTezBgMNi"
      }
    },
    {
      "cell_type": "code",
      "source": [],
      "metadata": {
        "id": "V_6micxXgUqS"
      },
      "execution_count": null,
      "outputs": []
    },
    {
      "cell_type": "markdown",
      "source": [
        "#these methods allows us to do\n",
        "1.__str__: This method is used to define a string representation of the object, which is what gets displayed when the object is passed to print() or str(). It allows you to specify how the object should be represented as a string.\n",
        "\n",
        "2.__add__: This method is used to define the behavior of the + operator for objects of the class. It allows you to control how two objects of the class are added together.\n"
      ],
      "metadata": {
        "id": "6aYyGzwYg8wW"
      }
    },
    {
      "cell_type": "code",
      "source": [
        "class Point:\n",
        "    def __init__(self, x, y):\n",
        "        self.x = x\n",
        "        self.y = y\n",
        "\n",
        "    # Override __str__ to define the string representation of the object\n",
        "    def __str__(self):\n",
        "        return f\"Point({self.x}, {self.y})\"\n",
        "\n",
        "    # Override __add__ to define the behavior of the + operator for Point objects\n",
        "    def __add__(self, other):\n",
        "        if isinstance(other, Point):\n",
        "            # Add corresponding x and y coordinates\n",
        "            return Point(self.x + other.x, self.y + other.y)\n",
        "        return NotImplemented\n",
        "\n",
        "# Testing the class\n",
        "p1 = Point(3, 4)\n",
        "p2 = Point(1, 2)\n",
        "\n",
        "# Using __str__ through print\n",
        "print(p1)\n",
        "print(p2)\n",
        "\n",
        "# Using __add__\n",
        "p3 = p1 + p2\n",
        "print(p3)\n"
      ],
      "metadata": {
        "colab": {
          "base_uri": "https://localhost:8080/"
        },
        "id": "FfhODkwGhJGy",
        "outputId": "f4c7ad61-9396-4961-911e-64ba0d0c351a"
      },
      "execution_count": 12,
      "outputs": [
        {
          "output_type": "stream",
          "name": "stdout",
          "text": [
            "Point(3, 4)\n",
            "Point(1, 2)\n",
            "Point(4, 6)\n"
          ]
        }
      ]
    },
    {
      "cell_type": "code",
      "source": [],
      "metadata": {
        "id": "CbRfrpcxhWqG"
      },
      "execution_count": null,
      "outputs": []
    },
    {
      "cell_type": "markdown",
      "source": [
        "# Q12 Create a decorator that measures and prints the execution time of a function.\n"
      ],
      "metadata": {
        "id": "cC3GwS-UhdFz"
      }
    },
    {
      "cell_type": "code",
      "source": [
        "import time\n",
        "\n",
        "# Decorator to measure execution time\n",
        "def measure_execution_time(func):\n",
        "    def wrapper(*args, **kwargs):\n",
        "        start_time = time.time()  # Record start time\n",
        "        result = func(*args, **kwargs)  # Call the original function\n",
        "        end_time = time.time()  # Record end time\n",
        "        execution_time = end_time - start_time  # Calculate the execution time\n",
        "        print(f\"Execution time of {func.__name__}: {execution_time:.4f} seconds\")\n",
        "        return result  # Return the result of the original function\n",
        "    return wrapper\n",
        "\n",
        "# Example function to test the decorator\n",
        "@measure_execution_time\n",
        "def slow_function():\n",
        "    time.sleep(2)  # Simulate a function that takes 2 seconds to execute\n",
        "    print(\"Function finished.\")\n",
        "\n",
        "# Testing the decorated function\n",
        "slow_function()\n"
      ],
      "metadata": {
        "colab": {
          "base_uri": "https://localhost:8080/"
        },
        "id": "Y0UDFfB5hk4H",
        "outputId": "b66438c6-dcf2-46a0-99a7-ae2a5480f03f"
      },
      "execution_count": 13,
      "outputs": [
        {
          "output_type": "stream",
          "name": "stdout",
          "text": [
            "Function finished.\n",
            "Execution time of slow_function: 2.0023 seconds\n"
          ]
        }
      ]
    },
    {
      "cell_type": "code",
      "source": [],
      "metadata": {
        "id": "mKPPdYqViBac"
      },
      "execution_count": null,
      "outputs": []
    },
    {
      "cell_type": "markdown",
      "source": [
        "#Q13  Explain the concept of the Diamond Problem in multiple inheritance. How does Python resolve it?"
      ],
      "metadata": {
        "id": "gPrrlE9UiLTf"
      }
    },
    {
      "cell_type": "code",
      "source": [],
      "metadata": {
        "id": "_PipSISciNR9"
      },
      "execution_count": null,
      "outputs": []
    },
    {
      "cell_type": "markdown",
      "source": [
        "The Diamond Problem in Multiple Inheritance:\n",
        "\n",
        "The Diamond Problem is an issue that arises in object-oriented programming languages that support multiple inheritance, where a class inherits from two classes that both inherit from a common base class. This creates a diamond-shaped inheritance structure and can lead to ambiguity when a method is called on the derived class, as the language must decide which method to invoke from the shared base class."
      ],
      "metadata": {
        "id": "BPOYnuqmicP0"
      }
    },
    {
      "cell_type": "code",
      "source": [],
      "metadata": {
        "id": "xC4yeRKBifZ6"
      },
      "execution_count": null,
      "outputs": []
    },
    {
      "cell_type": "markdown",
      "source": [
        "#Resolve"
      ],
      "metadata": {
        "id": "4QELKs9binKl"
      }
    },
    {
      "cell_type": "code",
      "source": [],
      "metadata": {
        "id": "14kYUAV5irTI"
      },
      "execution_count": null,
      "outputs": []
    },
    {
      "cell_type": "markdown",
      "source": [
        "Python uses an algorithm called C3 Linearization (or C3 Superclass Linearization) to resolve the Diamond Problem. The MRO defines the order in which base classes are looked up when searching for a method or attribute."
      ],
      "metadata": {
        "id": "GcO-6Zw6iscf"
      }
    },
    {
      "cell_type": "code",
      "source": [
        "#Example\n",
        "class A:\n",
        "    def speak(self):\n",
        "        print(\"Speaking from A\")\n",
        "\n",
        "class B(A):\n",
        "    def speak(self):\n",
        "        print(\"Speaking from B\")\n",
        "\n",
        "class C(A):\n",
        "    def speak(self):\n",
        "        print(\"Speaking from C\")\n",
        "\n",
        "class D(B, C):\n",
        "    pass\n",
        "\n",
        "# Creating an instance of D\n",
        "d = D()\n",
        "\n",
        "# Calling the speak method\n",
        "d.speak()  # Which version of speak() will be called?\n"
      ],
      "metadata": {
        "colab": {
          "base_uri": "https://localhost:8080/"
        },
        "id": "eurVutW_itrN",
        "outputId": "ba3318b4-4a0b-42ee-8352-3abc970235bd"
      },
      "execution_count": 14,
      "outputs": [
        {
          "output_type": "stream",
          "name": "stdout",
          "text": [
            "Speaking from B\n"
          ]
        }
      ]
    },
    {
      "cell_type": "code",
      "source": [],
      "metadata": {
        "id": "iRZAO3oci1i_"
      },
      "execution_count": null,
      "outputs": []
    },
    {
      "cell_type": "markdown",
      "source": [
        "#Q14 Write a class method that keeps track of the number of instances created from a class."
      ],
      "metadata": {
        "id": "K6SQRRnli7WS"
      }
    },
    {
      "cell_type": "code",
      "source": [
        "class MyClass:\n",
        "    # Class variable to keep track of the number of instances\n",
        "    instance_count = 0\n",
        "\n",
        "    def __init__(self):\n",
        "        # Increment the instance_count every time a new instance is created\n",
        "        MyClass.instance_count += 1\n",
        "\n",
        "    @classmethod\n",
        "    def get_instance_count(cls):\n",
        "        # Class method to return the number of instances created\n",
        "        return cls.instance_count\n",
        "\n",
        "# Testing the class\n",
        "obj1 = MyClass()\n",
        "obj2 = MyClass()\n",
        "obj3 = MyClass()\n",
        "\n",
        "# Get the number of instances created\n",
        "print(MyClass.get_instance_count())\n"
      ],
      "metadata": {
        "colab": {
          "base_uri": "https://localhost:8080/"
        },
        "id": "cn9MsjjJi9jY",
        "outputId": "f0412d60-939f-446d-a6af-e8e2f3be6454"
      },
      "execution_count": 16,
      "outputs": [
        {
          "output_type": "stream",
          "name": "stdout",
          "text": [
            "3\n"
          ]
        }
      ]
    },
    {
      "cell_type": "markdown",
      "source": [
        "#Q15  Implement a static method in a class that checks if a given year is a leap year."
      ],
      "metadata": {
        "id": "Txp3lQGSjL9t"
      }
    },
    {
      "cell_type": "code",
      "source": [
        "class YearUtils:\n",
        "    @staticmethod\n",
        "    def is_leap_year(year):\n",
        "        # A year is a leap year if it is divisible by 4, but not divisible by 100\n",
        "        # unless it is also divisible by 400.\n",
        "        if (year % 4 == 0 and year % 100 != 0) or (year % 400 == 0):\n",
        "            return True\n",
        "        return False\n",
        "\n",
        "# Testing the static method\n",
        "print(YearUtils.is_leap_year(2024))\n",
        "print(YearUtils.is_leap_year(1900))\n",
        "print(YearUtils.is_leap_year(2000))\n"
      ],
      "metadata": {
        "colab": {
          "base_uri": "https://localhost:8080/"
        },
        "id": "Wm2rZojPjETp",
        "outputId": "93f8ff2a-b404-42ea-d156-35cd7c04cd6b"
      },
      "execution_count": 17,
      "outputs": [
        {
          "output_type": "stream",
          "name": "stdout",
          "text": [
            "True\n",
            "False\n",
            "True\n"
          ]
        }
      ]
    },
    {
      "cell_type": "code",
      "source": [],
      "metadata": {
        "id": "yu99r2nojajc"
      },
      "execution_count": null,
      "outputs": []
    }
  ]
}